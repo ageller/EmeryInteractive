{
 "cells": [
  {
   "cell_type": "markdown",
   "metadata": {},
   "source": [
    "# Trying with py3Dmol\n",
    "\n",
    "to install: pip install py3Dmol\n",
    "\n",
    "see [here](http://nbviewer.jupyter.org/github/3dmol/3Dmol.js/blob/9050b97144e81f065df7eecc87ba9a16723ab14b/py3Dmol/examples.ipynb) for some examples:\n"
   ]
  },
  {
   "cell_type": "code",
   "execution_count": 7,
   "metadata": {},
   "outputs": [
    {
     "data": {
      "application/3dmoljs_load.v0": "<div id=\"3dmolviewer_1533744728899124\"  style=\"position: relative; width: 640px; height: 480px\">\n        <p id=\"3dmolwarning_1533744728899124\" style=\"background-color:#ffcccc;color:black\">You appear to be running in JupyterLab.  You need to install the 3dmol extension: <br>\n        <tt>jupyter labextension install jupyterlab_3dmol</tt></p>\n        </div>\n<script>\n\nvar loadScriptAsync = function(uri){\n  return new Promise((resolve, reject) => {\n    var tag = document.createElement('script');\n    tag.src = uri;\n    tag.async = true;\n    tag.onload = () => {\n      resolve();\n    };\n  var firstScriptTag = document.getElementsByTagName('script')[0];\n  firstScriptTag.parentNode.insertBefore(tag, firstScriptTag);\n});\n};\n\nif(typeof $3Dmolpromise === 'undefined') {\n$3Dmolpromise = null;\n  $3Dmolpromise = loadScriptAsync('https://3dmol.csb.pitt.edu/build/3Dmol.js');\n}\n\nvar viewer_1533744728899124 = null;\nvar warn = document.getElementById(\"3dmolwarning_1533744728899124\");\nif(warn) {\n    warn.parentNode.removeChild(warn);\n}\n$3Dmolpromise.then(function() {\nviewer_1533744728899124 = $3Dmol.createViewer($(\"#3dmolviewer_1533744728899124\"),{backgroundColor:\"white\"});\n$3Dmol.download(\"pdb:2POR\", viewer_1533744728899124, {}, function() {\n\tviewer_1533744728899124.setStyle({\"stick\": {\"color\": \"spectrum\"}});\nviewer_1533744728899124.render();\n})\n});\n</script>",
      "text/html": [
       "<div id=\"3dmolviewer_1533744728899124\"  style=\"position: relative; width: 640px; height: 480px\">\n",
       "        <p id=\"3dmolwarning_1533744728899124\" style=\"background-color:#ffcccc;color:black\">You appear to be running in JupyterLab.  You need to install the 3dmol extension: <br>\n",
       "        <tt>jupyter labextension install jupyterlab_3dmol</tt></p>\n",
       "        </div>\n",
       "<script>\n",
       "\n",
       "var loadScriptAsync = function(uri){\n",
       "  return new Promise((resolve, reject) => {\n",
       "    var tag = document.createElement('script');\n",
       "    tag.src = uri;\n",
       "    tag.async = true;\n",
       "    tag.onload = () => {\n",
       "      resolve();\n",
       "    };\n",
       "  var firstScriptTag = document.getElementsByTagName('script')[0];\n",
       "  firstScriptTag.parentNode.insertBefore(tag, firstScriptTag);\n",
       "});\n",
       "};\n",
       "\n",
       "if(typeof $3Dmolpromise === 'undefined') {\n",
       "$3Dmolpromise = null;\n",
       "  $3Dmolpromise = loadScriptAsync('https://3dmol.csb.pitt.edu/build/3Dmol.js');\n",
       "}\n",
       "\n",
       "var viewer_1533744728899124 = null;\n",
       "var warn = document.getElementById(\"3dmolwarning_1533744728899124\");\n",
       "if(warn) {\n",
       "    warn.parentNode.removeChild(warn);\n",
       "}\n",
       "$3Dmolpromise.then(function() {\n",
       "viewer_1533744728899124 = $3Dmol.createViewer($(\"#3dmolviewer_1533744728899124\"),{backgroundColor:\"white\"});\n",
       "$3Dmol.download(\"pdb:2POR\", viewer_1533744728899124, {}, function() {\n",
       "\tviewer_1533744728899124.setStyle({\"stick\": {\"color\": \"spectrum\"}});\n",
       "viewer_1533744728899124.render();\n",
       "})\n",
       "});\n",
       "</script>"
      ]
     },
     "metadata": {},
     "output_type": "display_data"
    },
    {
     "data": {
      "text/plain": [
       "<py3Dmol.view at 0x10fa8ac18>"
      ]
     },
     "execution_count": 7,
     "metadata": {},
     "output_type": "execute_result"
    }
   ],
   "source": [
    "import py3Dmol\n",
    "view = py3Dmol.view(query='pdb:2POR')\n",
    "#view.setStyle({'cartoon':{'color':'spectrum'}})\n",
    "view.setStyle({'stick':{'color':'spectrum'}})\n",
    "view"
   ]
  },
  {
   "cell_type": "markdown",
   "metadata": {},
   "source": [
    "# This notebook can be easily viewed with nbviewer\n",
    "\n",
    "See [here](http://nbviewer.jupyter.org/github/ageller/EmeryInteractive/blob/master/test3Dmol.ipynb)"
   ]
  },
  {
   "cell_type": "markdown",
   "metadata": {},
   "source": [
    "# 3Dmol is also easily embedded in html\n",
    "\n",
    "http://3dmol.csb.pitt.edu/doc/tutorial-url.html\n",
    "\n",
    "(It's not necessary to do this through python, but I'm including it here as a complete example)"
   ]
  },
  {
   "cell_type": "code",
   "execution_count": 16,
   "metadata": {},
   "outputs": [],
   "source": [
    "text = \"\"\"<html>\n",
    "<head>\n",
    "    <script src=\"https://3Dmol.csb.pitt.edu/build/3Dmol-min.js\"></script>\n",
    "</head>\n",
    "<body>\n",
    "    <div style=\"height: 400px; width: 400px; position: relative;\" class='viewer_3Dmoljs' data-pdb='2POR' data-backgroundcolor='0xffffff' data-style='stick'></div>\n",
    "</body>\n",
    "</html>\n",
    "\"\"\"\n",
    "\n",
    "file =open(\"index.html\", \"w\")\n",
    "file.write(text)\n",
    "file.close()\n",
    "\n"
   ]
  },
  {
   "cell_type": "code",
   "execution_count": 17,
   "metadata": {},
   "outputs": [],
   "source": [
    "!open index.html"
   ]
  },
  {
   "cell_type": "code",
   "execution_count": null,
   "metadata": {},
   "outputs": [],
   "source": []
  }
 ],
 "metadata": {
  "kernelspec": {
   "display_name": "Python 3",
   "language": "python",
   "name": "python3"
  },
  "language_info": {
   "codemirror_mode": {
    "name": "ipython",
    "version": 3
   },
   "file_extension": ".py",
   "mimetype": "text/x-python",
   "name": "python",
   "nbconvert_exporter": "python",
   "pygments_lexer": "ipython3",
   "version": "3.6.4"
  },
  "widgets": {
   "application/vnd.jupyter.widget-state+json": {
    "state": {},
    "version_major": 2,
    "version_minor": 0
   }
  }
 },
 "nbformat": 4,
 "nbformat_minor": 2
}
